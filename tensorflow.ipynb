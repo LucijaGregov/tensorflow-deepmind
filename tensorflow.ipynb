{
 "cells": [
  {
   "cell_type": "code",
   "execution_count": 2,
   "metadata": {
    "ExecuteTime": {
     "end_time": "2019-02-01T16:31:00.608613Z",
     "start_time": "2019-02-01T16:30:58.028520Z"
    }
   },
   "outputs": [],
   "source": [
    "import numpy as np\n",
    "import matplotlib.pyplot as plt\n",
    "import tensorflow as tf\n",
    "\n",
    "tf.reset_default_graph()"
   ]
  },
  {
   "cell_type": "code",
   "execution_count": 3,
   "metadata": {
    "ExecuteTime": {
     "end_time": "2019-02-01T16:31:00.614522Z",
     "start_time": "2019-02-01T16:31:00.611580Z"
    }
   },
   "outputs": [],
   "source": [
    "num_samples, w, b = 20, 0.5, 2"
   ]
  },
  {
   "cell_type": "code",
   "execution_count": 4,
   "metadata": {
    "ExecuteTime": {
     "end_time": "2019-02-01T16:31:00.620742Z",
     "start_time": "2019-02-01T16:31:00.616776Z"
    }
   },
   "outputs": [],
   "source": [
    "xs = np.asarray(range(num_samples))\n",
    "ys = np.asarray([x*w + b + np.random.normal() for x in range(num_samples)])"
   ]
  },
  {
   "cell_type": "code",
   "execution_count": 5,
   "metadata": {
    "ExecuteTime": {
     "end_time": "2019-02-01T16:31:00.825117Z",
     "start_time": "2019-02-01T16:31:00.624525Z"
    }
   },
   "outputs": [
    {
     "data": {
      "image/png": "[encoded data removed]",
      "text/plain": [
       "<Figure size 432x288 with 1 Axes>"
      ]
     },
     "metadata": {
      "needs_background": "light"
     },
     "output_type": "display_data"
    }
   ],
   "source": [
    "plt.scatter(xs, ys);"
   ]
  },
  {
   "cell_type": "code",
   "execution_count": 6,
   "metadata": {
    "ExecuteTime": {
     "end_time": "2019-02-01T16:31:00.833680Z",
     "start_time": "2019-02-01T16:31:00.829137Z"
    }
   },
   "outputs": [],
   "source": [
    "class Linear(object):\n",
    "    def __init__(self):\n",
    "        self.w = tf.get_variable(\"w\", dtype=tf.float32, shape=[], initializer=tf.zeros_initializer())\n",
    "        self.b = tf.get_variable(\"b\", dtype=tf.float32, shape=[], initializer=tf.zeros_initializer())\n",
    "    \n",
    "    \n",
    "    def __call__(self, x):\n",
    "        return self.w*x + self.b"
   ]
  },
  {
   "cell_type": "code",
   "execution_count": 7,
   "metadata": {
    "ExecuteTime": {
     "end_time": "2019-02-01T16:31:00.865456Z",
     "start_time": "2019-02-01T16:31:00.836432Z"
    }
   },
   "outputs": [],
   "source": [
    "xtf = tf.placeholder(tf.float32, [num_samples], \"xs\")\n",
    "ytf = tf.placeholder(tf.float32, [num_samples], \"ys\")\n",
    "\n",
    "model = Linear()\n",
    "model_output = model(xtf)"
   ]
  },
  {
   "cell_type": "code",
   "execution_count": 8,
   "metadata": {
    "ExecuteTime": {
     "end_time": "2019-02-01T16:31:00.893363Z",
     "start_time": "2019-02-01T16:31:00.867347Z"
    }
   },
   "outputs": [],
   "source": [
    "cov = tf.reduce_sum((xtf - tf.reduce_mean(xtf))*(ytf - tf.reduce_mean(ytf)))\n",
    "var = tf.reduce_sum(tf.square(xtf-tf.reduce_mean(xtf)))\n",
    "\n",
    "w_hat= cov/var\n",
    "b_hat = tf.reduce_mean(ytf) - w_hat*tf.reduce_mean(xtf)\n",
    "\n",
    "solve_w = model.w.assign(w_hat)\n",
    "solve_b = model.b.assign(tf.reduce_mean(ytf) - w_hat*tf.reduce_mean(xtf))"
   ]
  },
  {
   "cell_type": "code",
   "execution_count": 9,
   "metadata": {
    "ExecuteTime": {
     "end_time": "2019-02-01T16:31:01.035744Z",
     "start_time": "2019-02-01T16:31:00.895213Z"
    }
   },
   "outputs": [
    {
     "name": "stdout",
     "output_type": "stream",
     "text": [
      "INFO:tensorflow:Graph was finalized.\n",
      "INFO:tensorflow:Running local_init_op.\n",
      "INFO:tensorflow:Done running local_init_op.\n"
     ]
    }
   ],
   "source": [
    "with tf.train.MonitoredSession() as sess:\n",
    "    sess.run(\n",
    "        [solve_w, solve_b],\n",
    "        feed_dict={xtf: xs, ytf: ys}\n",
    "    )\n",
    "    preds = sess.run(\n",
    "                model_output,\n",
    "                feed_dict={xtf: xs, ytf: ys}\n",
    "    )"
   ]
  },
  {
   "cell_type": "code",
   "execution_count": 10,
   "metadata": {
    "ExecuteTime": {
     "end_time": "2019-02-01T16:31:01.215285Z",
     "start_time": "2019-02-01T16:31:01.037756Z"
    }
   },
   "outputs": [
    {
     "data": {
      "image/png": "[encoded data removed]",
      "text/plain": [
       "<Figure size 432x288 with 1 Axes>"
      ]
     },
     "metadata": {
      "needs_background": "light"
     },
     "output_type": "display_data"
    }
   ],
   "source": [
    "plt.scatter(xs, ys);\n",
    "plt.plot(xs, preds);"
   ]
  },
  {
   "cell_type": "code",
   "execution_count": null,
   "metadata": {},
   "outputs": [],
   "source": []
  }
 ],
 "metadata": {
  "kernelspec": {
   "display_name": "Python 3",
   "language": "python",
   "name": "python3"
  },
  "language_info": {
   "codemirror_mode": {
    "name": "ipython",
    "version": 3
   },
   "file_extension": ".py",
   "mimetype": "text/x-python",
   "name": "python",
   "nbconvert_exporter": "python",
   "pygments_lexer": "ipython3",
   "version": "3.6.6"
  },
  "latex_envs": {
   "LaTeX_envs_menu_present": true,
   "autoclose": false,
   "autocomplete": true,
   "bibliofile": "biblio.bib",
   "cite_by": "apalike",
   "current_citInitial": 1,
   "eqLabelWithNumbers": true,
   "eqNumInitial": 1,
   "hotkeys": {
    "equation": "Ctrl-E",
    "itemize": "Ctrl-I"
   },
   "labels_anchors": false,
   "latex_user_defs": false,
   "report_style_numbering": false,
   "user_envs_cfg": false
  },
  "toc": {
   "base_numbering": 1,
   "nav_menu": {},
   "number_sections": true,
   "sideBar": true,
   "skip_h1_title": false,
   "title_cell": "Table of Contents",
   "title_sidebar": "Contents",
   "toc_cell": false,
   "toc_position": {},
   "toc_section_display": true,
   "toc_window_display": false
  },
  "varInspector": {
   "cols": {
    "lenName": 16,
    "lenType": 16,
    "lenVar": 40
   },
   "kernels_config": {
    "python": {
     "delete_cmd_postfix": "",
     "delete_cmd_prefix": "del ",
     "library": "var_list.py",
     "varRefreshCmd": "print(var_dic_list())"
    },
    "r": {
     "delete_cmd_postfix": ") ",
     "delete_cmd_prefix": "rm(",
     "library": "var_list.r",
     "varRefreshCmd": "cat(var_dic_list()) "
    }
   },
   "types_to_exclude": [
    "module",
    "function",
    "builtin_function_or_method",
    "instance",
    "_Feature"
   ],
   "window_display": false
  }
 },
 "nbformat": 4,
 "nbformat_minor": 2
}
