{
 "cells": [
  {
   "cell_type": "code",
   "execution_count": 42,
   "metadata": {},
   "outputs": [],
   "source": [
    "import numpy as np\n",
    "import matplotlib.pyplot as plt\n",
    "import tensorflow as tf\n",
    "\n",
    "tf.reset_default_graph()"
   ]
  },
  {
   "cell_type": "code",
   "execution_count": 43,
   "metadata": {},
   "outputs": [],
   "source": [
    "num_samples, w, b = 20, 0.5, 2"
   ]
  },
  {
   "cell_type": "code",
   "execution_count": 44,
   "metadata": {},
   "outputs": [],
   "source": [
    "xs = np.asarray(range(num_samples))\n",
    "ys = np.asarray([x*w + b + np.random.normal() for x in range(num_samples)])"
   ]
  },
  {
   "cell_type": "code",
   "execution_count": 57,
   "metadata": {},
   "outputs": [
    {
     "data": {
      "image/png": "[encoded data removed]",
      "text/plain": [
       "<matplotlib.figure.Figure at 0x7f9ffcde3240>"
      ]
     },
     "metadata": {},
     "output_type": "display_data"
    }
   ],
   "source": [
    "plt.scatter(xs, ys);"
   ]
  },
  {
   "cell_type": "code",
   "execution_count": 46,
   "metadata": {},
   "outputs": [],
   "source": [
    "class Linear(object):\n",
    "    def __init__(self):\n",
    "        self.w = tf.get_variable(\"w\", dtype=tf.float32, shape=[], initializer=tf.zeros_initializer())\n",
    "        self.b = tf.get_variable(\"b\", dtype=tf.float32, shape=[], initializer=tf.zeros_initializer())\n",
    "    \n",
    "    \n",
    "    def __call__(self, x):\n",
    "        return self.w*x + self.b"
   ]
  },
  {
   "cell_type": "code",
   "execution_count": 47,
   "metadata": {},
   "outputs": [],
   "source": [
    "xtf = tf.placeholder(tf.float32, [num_samples], \"xs\")\n",
    "ytf = tf.placeholder(tf.float32, [num_samples], \"ys\")\n",
    "\n",
    "model = Linear()\n",
    "model_output = model(xtf)"
   ]
  },
  {
   "cell_type": "code",
   "execution_count": 56,
   "metadata": {},
   "outputs": [],
   "source": [
    "cov = tf.reduce_sum((xtf - tf.reduce_mean(xtf))*(ytf - tf.reduce_mean(ytf)))\n",
    "var = tf.reduce_sum(tf.square(xtf-tf.reduce_mean(xtf)))\n",
    "\n",
    "w_hat= cov/var\n",
    "b_hat = tf.reduce_mean(ytf) - w_hat*tf.reduce_mean(xtf)\n",
    "\n",
    "solve_w = model.w.assign(w_hat)\n",
    "solve_b = model.b.assign(tf.reduce_mean(ytf) - w_hat*tf.reduce_mean(xtf))"
   ]
  },
  {
   "cell_type": "code",
   "execution_count": 60,
   "metadata": {},
   "outputs": [
    {
     "name": "stdout",
     "output_type": "stream",
     "text": [
      "INFO:tensorflow:Graph was finalized.\n",
      "INFO:tensorflow:Running local_init_op.\n",
      "INFO:tensorflow:Done running local_init_op.\n"
     ]
    }
   ],
   "source": [
    "with tf.train.MonitoredSession() as sess:\n",
    "    sess.run(\n",
    "        [solve_w, solve_w],\n",
    "        feed_dict={xtf: xs, ytf: ys}\n",
    "    )\n",
    "    preds = sess.run(\n",
    "                model_output,\n",
    "                feed_dict={xtf: xs, ytf: ys}\n",
    "    )"
   ]
  },
  {
   "cell_type": "code",
   "execution_count": 64,
   "metadata": {},
   "outputs": [
    {
     "data": {
      "image/png": "[encoded data removed]",
      "text/plain": [
       "<matplotlib.figure.Figure at 0x7f9ffcc6c710>"
      ]
     },
     "metadata": {},
     "output_type": "display_data"
    }
   ],
   "source": [
    "plt.scatter(xs, ys);\n",
    "plt.plot(xs, preds);"
   ]
  }
 ],
 "metadata": {
  "kernelspec": {
   "display_name": "Python 3",
   "language": "python",
   "name": "python3"
  },
  "language_info": {
   "codemirror_mode": {
    "name": "ipython",
    "version": 3
   },
   "file_extension": ".py",
   "mimetype": "text/x-python",
   "name": "python",
   "nbconvert_exporter": "python",
   "pygments_lexer": "ipython3",
   "version": "3.6.4"
  }
 },
 "nbformat": 4,
 "nbformat_minor": 2
}
